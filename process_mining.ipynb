# Load necessary libraries
import pandas as pd

# Load cleaned data
data = pd.read_csv('cleaned_sales_data.csv')

# Convert data to event log format
event_log = data[['order_id', 'date', 'activity', 'resource']]

# Save event log to CSV (for use with ProM)
event_log.to_csv('event_log.csv', index=False)

# Documenting the steps
"""
### Process Mining Steps
1. Loaded cleaned sales data from 'cleaned_sales_data.csv'.
2. Converted data to event log format with columns: 'order_id', 'date', 'activity', 'resource'.
3. Saved the event log to 'event_log.csv' for use with ProM.
4. Import 'event_log.csv' into ProM for process mining analysis.
"""
