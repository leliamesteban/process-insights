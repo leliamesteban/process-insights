# Load necessary libraries
import pandas as pd

# Load data
data = pd.read_csv('sales_data.csv')

# Display the first few rows of the dataset
data.head()

# Clean data: Handle missing values
data = data.dropna()

# Clean data: Convert data types if necessary
data['date'] = pd.to_datetime(data['date'])

# Save cleaned data
data.to_csv('cleaned_sales_data.csv', index=False)

# Documenting the steps
"""
### Data Preparation Steps
1. Loaded sales data from 'sales_data.csv'.
2. Displayed the first few rows of the dataset.
3. Dropped rows with missing values.
4. Converted 'date' column to datetime format.
5. Saved the cleaned data to 'cleaned_sales_data.csv'.
"""
