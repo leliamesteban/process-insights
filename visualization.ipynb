# Load necessary libraries
import pandas as pd
import matplotlib.pyplot as plt
import plotly.express as px

# Load analyzed data
data = pd.read_csv('cleaned_sales_data.csv')

# Sales by Product Category
sales_by_category = data.groupby('category')['sales'].sum().reset_index()

# Plot sales by category using Plotly
fig = px.bar(sales_by_category, x='category', y='sales', title='Sales by Product Category')
fig.show()

# Documenting the steps
"""
### Visualization Steps
1. Loaded analyzed data from 'cleaned_sales_data.csv'.
2. Calculated sales by product category.
3. Created a bar chart using Plotly to visualize sales by category.
"""
